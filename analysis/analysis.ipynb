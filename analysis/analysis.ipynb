{
 "cells": [
  {
   "attachments": {},
   "cell_type": "markdown",
   "id": "16c08ce8-a7fb-41ac-baa3-9541d29ccfe4",
   "metadata": {},
   "source": [
    "# Predicting Customer Term Deposits"
   ]
  },
  {
   "cell_type": "code",
   "execution_count": 1,
   "id": "cb3968b0-1625-4eae-a429-39abb467ef52",
   "metadata": {},
   "outputs": [
    {
     "ename": "ModuleNotFoundError",
     "evalue": "No module named 'seaborn'",
     "output_type": "error",
     "traceback": [
      "\u001b[1;31m---------------------------------------------------------------------------\u001b[0m",
      "\u001b[1;31mModuleNotFoundError\u001b[0m                       Traceback (most recent call last)",
      "Cell \u001b[1;32mIn[1], line 2\u001b[0m\n\u001b[0;32m      1\u001b[0m \u001b[38;5;28;01mimport\u001b[39;00m \u001b[38;5;21;01mpandas\u001b[39;00m \u001b[38;5;28;01mas\u001b[39;00m \u001b[38;5;21;01mpd\u001b[39;00m\n\u001b[1;32m----> 2\u001b[0m \u001b[38;5;28;01mimport\u001b[39;00m \u001b[38;5;21;01mseaborn\u001b[39;00m \u001b[38;5;28;01mas\u001b[39;00m \u001b[38;5;21;01msns\u001b[39;00m\n\u001b[0;32m      3\u001b[0m \u001b[38;5;28;01mimport\u001b[39;00m \u001b[38;5;21;01mmatplotlib\u001b[39;00m\u001b[38;5;21;01m.\u001b[39;00m\u001b[38;5;21;01mpyplot\u001b[39;00m \u001b[38;5;28;01mas\u001b[39;00m \u001b[38;5;21;01mplt\u001b[39;00m\n\u001b[0;32m      4\u001b[0m \u001b[38;5;28;01mimport\u001b[39;00m \u001b[38;5;21;01mnumpy\u001b[39;00m \u001b[38;5;28;01mas\u001b[39;00m \u001b[38;5;21;01mnp\u001b[39;00m\n",
      "\u001b[1;31mModuleNotFoundError\u001b[0m: No module named 'seaborn'"
     ]
    }
   ],
   "source": [
    "import pandas as pd\n",
    "import seaborn as sns\n",
    "import matplotlib.pyplot as plt\n",
    "import numpy as np"
   ]
  },
  {
   "cell_type": "markdown",
   "id": "f597d605-189a-4efd-928e-776ed3bf05e3",
   "metadata": {},
   "source": [
    "## Summary"
   ]
  },
  {
   "cell_type": "markdown",
   "id": "8cc2bcb9-06a8-435f-90b6-e3c0a217df01",
   "metadata": {},
   "source": [
    "TBD once coding is finished"
   ]
  },
  {
   "cell_type": "code",
   "execution_count": null,
   "id": "3578cffe-6ff7-462a-aa38-a1827bd66c73",
   "metadata": {},
   "outputs": [],
   "source": []
  },
  {
   "cell_type": "markdown",
   "id": "ce7aecd4-9434-4623-96e4-931acea36b8f",
   "metadata": {},
   "source": [
    "## Introduction "
   ]
  },
  {
   "attachments": {},
   "cell_type": "markdown",
   "id": "6090b6a1-d248-4add-b5fb-33ad7da19fdb",
   "metadata": {},
   "source": [
    "According to a poll from Investor's Edge, the direct investing division of CIBC, 79% of Canadians acknowledge that it is important to know how to invest their money (Gonzales 2024). However, only 48% of Canadians are investing their money annually (Gonzales 2024). A large proportion of those hesitant to invest (57%) stated a fear of losing money as the reason (Gonzales 2024). It’s important for banks to understand Canadians’ investment habits in order to better provide services to support Canadians investment decisions. Keeping this in mind, many banks offer a lower risk investment option called bank term deposits.\n",
    "\n",
    "A bank term deposit is a type of secure investment that allows individuals to deposit a lump sum amount of money for a fixed period of time (term). The period of time can range from short-term to long-term. The money is “locked in” for the duration of the term at an agreed upon interest rate. At the end of the term, the customer will recieve the initial deposit along with the additional accumulated interest. It’s important to note that term deposits are very low risk and the initial investment is protected (IslandSavings, n.d.)\n",
    "\n",
    "In this analysis, we aim to determine whether a machine learning model can predict if a customer will agree to open a term deposit, using data from a Portuguese banking institution. Answering this question will be valuable for the banking institution, as it will allow them to focus their calling campaign on customers that are more likely to agree to a term deposit. This targeted approach will save valuable time and resources, as fewer customers will need to be contacted in future campaigns based on the models predictions. Additionally, this analysis will also help the bank understand their customers investment preferences, enabling them to build stronger relationship with their client-base and offer investment options that align with customer needs."
   ]
  },
  {
   "cell_type": "markdown",
   "id": "c2241fc5-86ea-4022-9c67-c87530827201",
   "metadata": {},
   "source": [
    "# Methods"
   ]
  },
  {
   "cell_type": "markdown",
   "id": "9c20b33b-441f-4ee1-af97-331b8947fc48",
   "metadata": {},
   "source": [
    "## Data"
   ]
  },
  {
   "attachments": {},
   "cell_type": "markdown",
   "id": "5faaa1f0-5328-424d-b75b-32addfe14dae",
   "metadata": {},
   "source": [
    "The dataset used in this project is from a direct marketing campaign conducted via phone calls from a Portuguese banking institution. The dataset was created by S. Moro, P. Rita, and P. Cortez and collected between May 2008 and November 2010 (Moro, Rita, and Cortez, 2014). Our team sourced the data from the UCI Machine Learning Repository which can be accessed directly here. Each row in the dataset represents a bank client, with 17 features that capture aspects of the clients characteristics, as well as whether the client opened a term deposit or not. Some features are more specific to the individual (e.g. age, job, marital status and education level), while others pertain to their relationship with the bank, such as such as past interactions through previous campaigns, or the number of days since the last contact."
   ]
  },
  {
   "cell_type": "markdown",
   "id": "63f07798-2648-4069-bd4f-1d3e722c60f9",
   "metadata": {},
   "source": [
    "## Step 1: Data Loading"
   ]
  },
  {
   "cell_type": "markdown",
   "id": "312691b1-efe0-4d69-8402-8d31d441ae73",
   "metadata": {},
   "source": [
    "Objective: Provide context about the dataset and load it for analysis."
   ]
  },
  {
   "cell_type": "code",
   "execution_count": null,
   "id": "c812a984-53cf-4055-8a48-53fd6f30006c",
   "metadata": {},
   "outputs": [],
   "source": [
    "# Path to the CSV file\n",
    "file_path = \"../data/bank-full.csv\"\n",
    "\n",
    "# Load the data\n",
    "data = pd.read_csv(file_path, sep=';')\n",
    "\n",
    "# Preview the first few rows\n",
    "data.head()"
   ]
  },
  {
   "cell_type": "markdown",
   "id": "fe318cac-ef40-4201-bea1-d14b778bf57f",
   "metadata": {},
   "source": [
    "## Step 2: Data Cleaning and Missing Value Handling"
   ]
  },
  {
   "cell_type": "markdown",
   "id": "0acca92d-fdc3-4c78-8d81-fd0347831037",
   "metadata": {},
   "source": [
    "Objective: Standardize missing values, clean data, and remove irrelevant columns."
   ]
  },
  {
   "cell_type": "code",
   "execution_count": null,
   "id": "941050c2-b893-4314-a01f-94eaf7375911",
   "metadata": {},
   "outputs": [],
   "source": [
    "# Replace \"unknown\" with NaN\n",
    "data.replace('unknown', np.nan, inplace=True)\n",
    "\n",
    "# Check for missing values\n",
    "print(data.isnull().sum())\n",
    "\n",
    "# Visualize the relationship between 'contact' and 'y' to evaluate its importance\n",
    "sns.countplot(x='contact', hue='y', data=data)\n",
    "plt.title('Contact Method vs Subscription')\n",
    "plt.xlabel('Contact Method')\n",
    "plt.ylabel('Count')\n",
    "plt.show()\n",
    "\n",
    "# Impute missing values in 'job' and 'education' with mode\n",
    "data['job'] = data['job'].fillna(data['job'].mode()[0])\n",
    "data['education'] = data['education'].fillna(data['education'].mode()[0])\n",
    "\n",
    "# Decision about 'contact':\n",
    "# Based on the visualization, replace missing values in 'contact' with 'Unknown Contact'\n",
    "data['contact'] = data['contact'].fillna('Unknown Contact')\n",
    "\n",
    "# Drop the 'poutcome' column due to excessive missing values\n",
    "data.drop(columns=['poutcome'], inplace=True)\n",
    "\n",
    "# Drop the 'duration' column as it is deemed irrelevant\n",
    "data.drop(columns=['duration'], inplace=True)\n",
    "\n",
    "# Verify the cleaned dataset\n",
    "print(data.isnull().sum())\n",
    "print(data.info())\n"
   ]
  },
  {
   "cell_type": "markdown",
   "id": "05a7f249-ab1e-4b1e-8e72-aedd47df947d",
   "metadata": {},
   "source": [
    "To prepare the dataset for analysis, we addressed missing values and removed irrelevant columns. Missing values in job and education were imputed with the mode, as their proportions were small, and mode imputation preserves their categorical nature. For contact, we visualized its relationship with the target variable (y) and found that contact method correlates with subscription rates. Based on this insight, missing values in contact were replaced with \"Unknown Contact\" to retain its predictive value. Columns like poutcome, which had excessive missing values (82%), were dropped to reduce noise, while duration was removed to prevent data leakage, as it directly correlates with the target variable. These cleaning decisions ensure a clean, consistent dataset, while preserving key patterns for predictive modeling."
   ]
  },
  {
   "cell_type": "markdown",
   "id": "a10c66cf-00ed-4231-9c25-5cf214fd5513",
   "metadata": {},
   "source": [
    "## Step 3: Exploratory Data Analysis (EDA)"
   ]
  },
  {
   "cell_type": "markdown",
   "id": "abdca5cc-645b-43ec-8bc8-98b84992e5fc",
   "metadata": {},
   "source": [
    "Objective: Gain insights into the dataset using summary statistics and visualizations."
   ]
  },
  {
   "cell_type": "markdown",
   "id": "acaeb977-cf65-4d5e-a82a-4e24e3c1238d",
   "metadata": {},
   "source": [
    "### 3.1 Summary Statistics Code"
   ]
  },
  {
   "cell_type": "code",
   "execution_count": null,
   "id": "e1ea3024-257f-47dc-aa62-e8377f73ac27",
   "metadata": {},
   "outputs": [],
   "source": [
    "# Generate summary statistics for numerical columns\n",
    "print(data.describe())"
   ]
  },
  {
   "cell_type": "markdown",
   "id": "430cd9b3-2807-4acc-abdd-b8e17353cdbf",
   "metadata": {},
   "source": [
    "The summary statistics provide an overview of the central tendencies, variability, and range of the numerical columns in the dataset. The age column, with a mean of 41 years and a standard deviation of 10.6, indicates a diverse range from 18 to 95 years. The balance column shows significant variability, with a wide range from -8019 to 102127 and a standard deviation over 3000, suggesting the presence of outliers. The day column, representing the last contact day, is evenly distributed across the month, while campaign has a median of 2 and a maximum of 63, showing that most clients were contacted only a few times. The pdays column has many entries with -1, likely indicating no prior contact, while previous has a low mean (0.58) but a maximum of 275, highlighting infrequent yet extreme cases. These statistics offer critical insights into the dataset’s distribution and help identify features that may need further preprocessing."
   ]
  },
  {
   "cell_type": "markdown",
   "id": "3e398d30-478d-4a40-a659-a6ae6eea3c33",
   "metadata": {},
   "source": [
    "### 3.2 Distribution of the Target Variable"
   ]
  },
  {
   "cell_type": "code",
   "execution_count": null,
   "id": "b03c8032-b1e4-4c73-9313-a5cea3a552d9",
   "metadata": {},
   "outputs": [],
   "source": [
    "# Visualize the distribution of the target variable\n",
    "sns.countplot(x='y', data=data)\n",
    "plt.title('Distribution of Target Variable (Term Deposit Subscription)')\n",
    "plt.xlabel('Subscription Status')\n",
    "plt.ylabel('Count')\n",
    "plt.show()\n"
   ]
  },
  {
   "cell_type": "markdown",
   "id": "48744a6a-b1d7-4aec-b411-b55bbf6e11b1",
   "metadata": {},
   "source": [
    "### 3.3 Relationships Between Features and Target Code:"
   ]
  },
  {
   "cell_type": "code",
   "execution_count": null,
   "id": "f1dae7e5-42a1-4f73-9854-e3dda67dfcdc",
   "metadata": {},
   "outputs": [],
   "source": [
    "# Set a consistent figure size\n",
    "plot_size = (8, 5)\n",
    "\n",
    "# Boxplot for balance vs subscription status\n",
    "plt.figure(figsize=plot_size)\n",
    "sns.boxplot(x='y', y='balance', data=data)\n",
    "plt.title('Balance Distribution by Subscription Status')\n",
    "plt.xlabel('Subscription Status')\n",
    "plt.ylabel('Balance')\n",
    "plt.show()\n",
    "\n",
    "# Job vs subscription\n",
    "plt.figure(figsize=plot_size)\n",
    "sns.countplot(x='job', hue='y', data=data)\n",
    "plt.title('Job Type vs Subscription')\n",
    "plt.xlabel('Job Type')\n",
    "plt.ylabel('Count')\n",
    "plt.xticks(rotation=45)\n",
    "plt.legend(title='Subscription Status', loc='upper right')\n",
    "plt.show()"
   ]
  },
  {
   "cell_type": "markdown",
   "id": "fb4f0614-b16b-41f0-8476-dc52221e62de",
   "metadata": {},
   "source": [
    "## Step 4. Correlation Analysis"
   ]
  },
  {
   "cell_type": "markdown",
   "id": "5a97ff4c-0a71-49d7-a08d-b7f3c98a90a8",
   "metadata": {},
   "source": [
    "Objective: Explore relationships between numerical features."
   ]
  },
  {
   "cell_type": "code",
   "execution_count": null,
   "id": "70b2569a-4852-4107-82fd-7df7e3987469",
   "metadata": {},
   "outputs": [],
   "source": [
    "# Select only numerical columns\n",
    "numerical_data = data.select_dtypes(include=['float64', 'int64'])\n",
    "\n",
    "# Calculate and visualize the correlation matrix\n",
    "correlation_matrix = numerical_data.corr()\n",
    "plt.figure(figsize=(12, 8))\n",
    "sns.heatmap(correlation_matrix, annot=True, fmt=\".2f\", cmap='coolwarm')\n",
    "plt.title('Correlation Heatmap')\n",
    "plt.show()"
   ]
  },
  {
   "cell_type": "markdown",
   "id": "e5594fb0-a354-4bd7-94ab-5e8564e0d38c",
   "metadata": {},
   "source": [
    "The correlation heatmap reveals that most numerical features have weak or negligible correlations, indicating low multicollinearity and diverse contributions to prediction. A notable moderate correlation (0.45) exists between pdays and previous, suggesting some redundancy, but other features like age, balance, and campaign show minimal linear relationships. This suggests that the numerical features are largely independent and suitable for modeling without significant concerns about collinearity."
   ]
  },
  {
   "cell_type": "markdown",
   "id": "b9d8a775-4a3c-4705-819e-fee241b97621",
   "metadata": {},
   "source": [
    "## Step 5. Analysis"
   ]
  },
  {
   "cell_type": "code",
   "execution_count": null,
   "id": "5f461476-9c39-4b67-8164-0fcec7a2902c",
   "metadata": {},
   "outputs": [],
   "source": []
  },
  {
   "cell_type": "markdown",
   "id": "407a343e-06f8-4e88-97bf-ac7385f9783e",
   "metadata": {},
   "source": [
    "## References"
   ]
  },
  {
   "attachments": {},
   "cell_type": "markdown",
   "id": "f656cd88-e75d-4d43-8688-b952c34b04e1",
   "metadata": {},
   "source": [
    "Moro, S., Rita, P., and Cortez, P. (2014). Bank Marketing [Dataset]. UCI Machine Learning Repository. https://doi.org/10.24432/C5K306.\n",
    "\n",
    "Freschia Gonzales. (May 16, 2024). “More than half of Canadians don’t invest annually, CIBC poll finds.” Wealth Professional. https://www.wealthprofessional.ca/investments/wealth-technology/more-than-half-of-canadians-dont-invest-annually-cibc-poll-finds/385897 \n",
    "\n",
    "IslandSavings. (n.d.). “A Complete Guide to Term Deposits.” IslandSavings. https://www.islandsavings.ca/simple-advice/wealth/term-deposits-guide#p1 "
   ]
  },
  {
   "cell_type": "code",
   "execution_count": null,
   "id": "19f7267b-a34a-4c5d-9fea-66c51cdf28f8",
   "metadata": {},
   "outputs": [],
   "source": []
  }
 ],
 "metadata": {
  "kernelspec": {
   "display_name": "Python 3 (ipykernel)",
   "language": "python",
   "name": "python3"
  },
  "language_info": {
   "codemirror_mode": {
    "name": "ipython",
    "version": 3
   },
   "file_extension": ".py",
   "mimetype": "text/x-python",
   "name": "python",
   "nbconvert_exporter": "python",
   "pygments_lexer": "ipython3",
   "version": "3.11.9"
  }
 },
 "nbformat": 4,
 "nbformat_minor": 5
}
